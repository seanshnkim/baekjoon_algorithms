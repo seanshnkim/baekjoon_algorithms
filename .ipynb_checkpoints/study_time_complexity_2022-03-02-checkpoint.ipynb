{
 "cells": [
  {
   "cell_type": "code",
   "execution_count": 46,
   "id": "21b5ec6e",
   "metadata": {
    "scrolled": true
   },
   "outputs": [
    {
     "name": "stdout",
     "output_type": "stream",
     "text": [
      "1.3076159954071045\n",
      "1.5188400745391846\n",
      "0.029068946838378906\n",
      "0.0016760826110839844\n",
      "12.261942148208618\n",
      "0.03403019905090332\n"
     ]
    }
   ],
   "source": [
    "import time\n",
    "\n",
    "def solution_stock(prices):\n",
    "    counts = [0 for i in range(len(prices))]\n",
    "    # indices = [i for i in range(len(prices))]\n",
    "    for ind, price in enumerate(prices):\n",
    "        for count, checkpoint in enumerate(prices[ind + 1:]):\n",
    "            if checkpoint < price:\n",
    "                counts[ind] = count + 1\n",
    "                break\n",
    "            else:\n",
    "                counts[ind] += 1\n",
    "    return counts\n",
    "\n",
    "def solution_others(prices):\n",
    "    answer =[0] * len(prices)\n",
    "    for i in range(len(prices)):\n",
    "        for j in range(i+1, len(prices)):\n",
    "            if prices[i] <= prices[j]:\n",
    "                answer[i]+=1\n",
    "            else:\n",
    "                answer[i]+=1\n",
    "                break\n",
    "    return answer\n",
    "\n",
    "tic = time.time()\n",
    "solution_stock(stock_list1)\n",
    "toc = time.time()\n",
    "print(toc-tic)\n",
    "\n",
    "tic = time.time()\n",
    "solution_others(stock_list1)\n",
    "toc = time.time()\n",
    "print(toc-tic)\n",
    "\n",
    "tic = time.time()\n",
    "solution_stock(stock_list2)\n",
    "toc = time.time()\n",
    "print(toc-tic)\n",
    "\n",
    "tic = time.time()\n",
    "solution_others(stock_list2)\n",
    "toc = time.time()\n",
    "print(toc-tic)\n",
    "\n",
    "tic = time.time()\n",
    "solution_stock(stock_list_easyButLong)\n",
    "toc = time.time()\n",
    "print(toc-tic)\n",
    "\n",
    "tic = time.time()\n",
    "solution_others(stock_list_easyButLong)\n",
    "toc = time.time()\n",
    "print(toc-tic)"
   ]
  },
  {
   "cell_type": "code",
   "execution_count": 52,
   "id": "32b03f4e",
   "metadata": {
    "scrolled": true
   },
   "outputs": [
    {
     "name": "stdout",
     "output_type": "stream",
     "text": [
      "slow1: 3.0500380992889404, vanilla: 0.016604900360107422\n",
      "slow2: 3.0484461784362793, vanilla: 0.017099857330322266\n"
     ]
    }
   ],
   "source": [
    "import time\n",
    "\n",
    "stock_list_easyButLong = [i for i in reversed(range(500000))]\n",
    "\n",
    "def solution_slow1(prices):\n",
    "    counts = [0 for i in range(len(prices))]\n",
    "    # indices = [i for i in range(len(prices))]\n",
    "    for ind, price in enumerate(prices):\n",
    "        for count, checkpoint in enumerate(prices[ind + 1:]):\n",
    "            if checkpoint < price:\n",
    "                counts[ind] = count + 1\n",
    "                break\n",
    "            else:\n",
    "                counts[ind] += 1\n",
    "    return counts\n",
    "\n",
    "def solution_slow2(prices):\n",
    "    counts = [0] * len(prices)\n",
    "    # indices = [i for i in range(len(prices))]\n",
    "    for ind, price in enumerate(prices):\n",
    "        for count, checkpoint in enumerate(prices[ind + 1:]):\n",
    "            if checkpoint < price:\n",
    "                counts[ind] = count + 1\n",
    "                break\n",
    "            else:\n",
    "                counts[ind] += 1\n",
    "    return counts\n",
    "\n",
    "\n",
    "def solution_vanilla(prices):\n",
    "    answer =[0] * len(prices)\n",
    "    for i in range(len(prices)):\n",
    "        for j in range(i+1, len(prices)):\n",
    "            if prices[i] <= prices[j]:\n",
    "                answer[i]+=1\n",
    "            else:\n",
    "                answer[i]+=1\n",
    "                break\n",
    "    return answer\n",
    "\n",
    "def test_time(controlSet, testSet, list_size):\n",
    "    test_list = [i for i in reversed(range(list_size))]\n",
    "    \n",
    "    ticControl = time.time()\n",
    "    controlSet(test_list)\n",
    "    tocControl = time.time()\n",
    "    controlSet_time = tocControl - ticControl\n",
    "    \n",
    "    ticTest = time.time()\n",
    "    testSet(test_list)\n",
    "    tocTest = time.time()\n",
    "    testSet_time = tocTest - ticTest\n",
    "    \n",
    "    return controlSet_time, testSet_time\n",
    "    \n",
    "\n",
    "t1, t2 = test_time(solution_slow1, solution_vanilla, 50000)\n",
    "print(f'slow1: {t1}, vanilla: {t2}')\n",
    "\n",
    "t1, t2 = test_time(solution_slow2, solution_vanilla, 50000)\n",
    "print(f'slow2: {t1}, vanilla: {t2}')"
   ]
  },
  {
   "cell_type": "code",
   "execution_count": 55,
   "id": "0147181e",
   "metadata": {},
   "outputs": [
    {
     "name": "stdout",
     "output_type": "stream",
     "text": [
      "slow3: 3.0610508918762207, vanilla: 0.017174959182739258\n",
      "slow4: 77.01664304733276, vanilla: 0.01756906509399414\n"
     ]
    }
   ],
   "source": [
    "def solution_slow3(prices):\n",
    "    counts = [0] * len(prices)\n",
    "    # indices = [i for i in range(len(prices))]\n",
    "    for ind in range(len(prices)):\n",
    "        for count, checkpoint in enumerate(prices[ind + 1:]):\n",
    "            if checkpoint < prices[ind]:\n",
    "                counts[ind] = count + 1\n",
    "                break\n",
    "            else:\n",
    "                counts[ind] += 1\n",
    "    return counts\n",
    "\n",
    "def solution_slow4(prices):\n",
    "    counts = [0] * len(prices)\n",
    "    # indices = [i for i in range(len(prices))]\n",
    "    for ind in range(len(prices)):\n",
    "        for count in range(len(prices[ind + 1:])):\n",
    "            if prices[count] < prices[ind]:\n",
    "                counts[ind] = count + 1\n",
    "                break\n",
    "            else:\n",
    "                counts[ind] += 1\n",
    "    return counts\n",
    "\n",
    "\n",
    "t1, t2 = test_time(solution_slow3, solution_vanilla, 50000)\n",
    "print(f'slow3: {t1}, vanilla: {t2}')\n",
    "\n",
    "t1, t2 = test_time(solution_slow4, solution_vanilla, 50000)\n",
    "print(f'slow4: {t1}, vanilla: {t2}')"
   ]
  },
  {
   "cell_type": "code",
   "execution_count": 59,
   "id": "71338953",
   "metadata": {},
   "outputs": [
    {
     "name": "stdout",
     "output_type": "stream",
     "text": [
      "slow4: 12.129801034927368, vanilla: 0.006855010986328125\n",
      "slow5: 12.270794868469238, vanilla: 0.006834983825683594\n"
     ]
    }
   ],
   "source": [
    "def solution_slow5(prices):\n",
    "    counts = [0] * len(prices)\n",
    "    # indices = [i for i in range(len(prices))]\n",
    "    currLen = len(prices)\n",
    "    for ind in range(currLen):\n",
    "        for count in range(len(prices[ind + 1:])):\n",
    "            if prices[count] < prices[ind]:\n",
    "                counts[ind] = count + 1\n",
    "                break\n",
    "            else:\n",
    "                counts[ind] += 1\n",
    "    return counts\n",
    "\n",
    "t1, t2 = test_time(solution_slow4, solution_vanilla, 20000)\n",
    "print(f'slow4: {t1}, vanilla: {t2}')\n",
    "\n",
    "t1, t2 = test_time(solution_slow5, solution_vanilla, 20000)\n",
    "print(f'slow5: {t1}, vanilla: {t2}')"
   ]
  },
  {
   "cell_type": "code",
   "execution_count": 60,
   "id": "b09720ec",
   "metadata": {},
   "outputs": [
    {
     "name": "stdout",
     "output_type": "stream",
     "text": [
      "slow6: 0.018765687942504883, vanilla: 0.012470006942749023\n"
     ]
    }
   ],
   "source": [
    "def solution_slow6(prices):\n",
    "    counts = [0] * len(prices)\n",
    "    # indices = [i for i in range(len(prices))]\n",
    "    for ind in range(len(prices)):\n",
    "        for count in range(ind+1, len(prices)):\n",
    "            if prices[count] < prices[ind]:\n",
    "                counts[ind] = count+ 1\n",
    "                break\n",
    "            else:\n",
    "                counts[ind] += 1\n",
    "    return counts\n",
    "\n",
    "t1, t2 = test_time(solution_slow6, solution_vanilla, 20000)\n",
    "print(f'slow6: {t1}, vanilla: {t2}')"
   ]
  },
  {
   "cell_type": "code",
   "execution_count": 78,
   "id": "16ed29eb",
   "metadata": {
    "scrolled": true
   },
   "outputs": [
    {
     "name": "stdout",
     "output_type": "stream",
     "text": [
      "0.10389900207519531\n",
      "0.05027604103088379\n",
      "0.07145190238952637\n"
     ]
    }
   ],
   "source": [
    "'''Check if list slicing consumes time'''\n",
    "\n",
    "sizeOfList = 1000000\n",
    "prices = [i for i in reversed(range(sizeOfList))]\n",
    "\n",
    "# tic1 = time.time()\n",
    "# for i in range(sizeOfList):\n",
    "#     partOfIt = prices[i:]\n",
    "# toc1 = time.time()\n",
    "\n",
    "\n",
    "tic2 = time.time()\n",
    "for i in range(sizeOfList):\n",
    "    partOfIt = len(prices)\n",
    "toc2 = time.time()\n",
    "\n",
    "\n",
    "tic3 = time.time()\n",
    "currLen = len(prices)\n",
    "for i in range(sizeOfList):\n",
    "    partOfIt = currLen\n",
    "toc3 = time.time()\n",
    "\n",
    "tic4 = time.time()\n",
    "for i in range(sizeOfList):\n",
    "    partOfIt = prices[i]\n",
    "toc4 = time.time()\n",
    "\n",
    "# print(toc1-tic1)\n",
    "print(toc2-tic2)\n",
    "print(toc3-tic3)\n",
    "print(toc4-tic4)"
   ]
  },
  {
   "cell_type": "code",
   "execution_count": 85,
   "id": "1e3256d7",
   "metadata": {},
   "outputs": [
    {
     "data": {
      "image/png": "[encoded data removed]",
      "text/plain": [
       "<Figure size 432x288 with 1 Axes>"
      ]
     },
     "metadata": {
      "needs_background": "light"
     },
     "output_type": "display_data"
    },
    {
     "data": {
      "text/plain": [
       "[0.005296230316162109,\n",
       " 0.014199972152709961,\n",
       " 0.024080991744995117,\n",
       " 0.03685808181762695,\n",
       " 0.05305600166320801,\n",
       " 0.07446813583374023,\n",
       " 0.10103011131286621,\n",
       " 0.13200116157531738,\n",
       " 0.16747426986694336,\n",
       " 0.20641708374023438]"
      ]
     },
     "execution_count": 85,
     "metadata": {},
     "output_type": "execute_result"
    }
   ],
   "source": [
    "import matplotlib.pyplot as plt\n",
    "\n",
    "\n",
    "def show_slicing_timeComplexity(listSizeSet):\n",
    "    resultList = []\n",
    "    for listSize in listSizeSet:\n",
    "        test_list = [0] * listSize\n",
    "        tic = time.time()\n",
    "        for i in range(listSize):\n",
    "            sliced = test_list[i:]\n",
    "        toc = time.time()\n",
    "        test_time = toc - tic\n",
    "        resultList.append(test_time)\n",
    "        \n",
    "    plt.plot(listSizeSet, resultList)\n",
    "    #plt.xscale('log')\n",
    "    plt.show()\n",
    "    return resultList\n",
    "\n",
    "testSizeSet = [i*1000 for i in range(1,11)] \n",
    "show_slicing_timeComplexity(testSizeSet)"
   ]
  },
  {
   "cell_type": "code",
   "execution_count": 86,
   "id": "9e612ae1",
   "metadata": {},
   "outputs": [
    {
     "data": {
      "image/png": "[encoded data removed]",
      "text/plain": [
       "<Figure size 432x288 with 1 Axes>"
      ]
     },
     "metadata": {
      "needs_background": "light"
     },
     "output_type": "display_data"
    },
    {
     "data": {
      "text/plain": [
       "[0.24135398864746094,\n",
       " 0.8270552158355713,\n",
       " 1.8732349872589111,\n",
       " 3.325840950012207,\n",
       " 5.173964023590088,\n",
       " 7.514501094818115,\n",
       " 10.217384099960327,\n",
       " 13.32516098022461,\n",
       " 16.92775297164917,\n",
       " 20.78459906578064]"
      ]
     },
     "execution_count": 86,
     "metadata": {},
     "output_type": "execute_result"
    }
   ],
   "source": [
    "testSizeSet = [i*10000 for i in range(1,11)] \n",
    "show_slicing_timeComplexity(testSizeSet)"
   ]
  },
  {
   "cell_type": "code",
   "execution_count": null,
   "id": "60112175",
   "metadata": {},
   "outputs": [],
   "source": [
    "tic = time.time()\n",
    "solution_stock(stock_list_easyButLong)\n",
    "toc = time.time()\n",
    "print(toc-tic)\n",
    "\n",
    "tic = time.time()\n",
    "solution_others(stock_list_easyButLong)\n",
    "toc = time.time()\n",
    "print(toc-tic)"
   ]
  },
  {
   "cell_type": "code",
   "execution_count": 9,
   "id": "d84f3867",
   "metadata": {},
   "outputs": [
    {
     "name": "stdout",
     "output_type": "stream",
     "text": [
      "[1, 2, 3, 4]\n",
      "[4, 3, 2, 1]\n"
     ]
    }
   ],
   "source": [
    "test_list_ascending = [1,2,3,4]\n",
    "test_list_descending = test_list_ascending[::-1]\n",
    "print(test_list_ascending)\n",
    "print(test_list_descending)"
   ]
  },
  {
   "cell_type": "code",
   "execution_count": 87,
   "id": "84880e46",
   "metadata": {},
   "outputs": [
    {
     "data": {
      "image/png": "[encoded data removed]",
      "text/plain": [
       "<Figure size 432x288 with 1 Axes>"
      ]
     },
     "metadata": {
      "needs_background": "light"
     },
     "output_type": "display_data"
    }
   ],
   "source": [
    "x1 = [1000, 2000, 5000, 10000, 20000, 50000]\n",
    "y1 = [i*1000 for i in range(6)]\n",
    "\n",
    "plt.plot(x1, y1)\n",
    "plt.show()"
   ]
  },
  {
   "cell_type": "code",
   "execution_count": 91,
   "id": "60e10401",
   "metadata": {},
   "outputs": [
    {
     "name": "stdout",
     "output_type": "stream",
     "text": [
      "0.017422914505004883 0.03988194465637207 0.03859114646911621\n"
     ]
    }
   ],
   "source": [
    "def test_time_range(list_size):\n",
    "    test_list = [i for i in reversed(range(list_size))]\n",
    "    \n",
    "    tic1 = time.time()\n",
    "    for item in test_list:\n",
    "        temp = item\n",
    "    toc1 = time.time()\n",
    "    time1 = toc1 - tic1\n",
    "    \n",
    "    tic2 = time.time()\n",
    "    for i in range(len(test_list)):\n",
    "        temp = test_list[i]\n",
    "    toc2 = time.time()\n",
    "    time2 = toc2 - tic2\n",
    "    \n",
    "    tic3 = time.time()\n",
    "    currLen = len(test_list)\n",
    "    for i in range(currLen):\n",
    "        temp = test_list[i]\n",
    "    toc3 = time.time()\n",
    "    time3 = toc3 - tic3\n",
    "    \n",
    "    return time1, time2, time3\n",
    "\n",
    "testSize = 1000000\n",
    "t1, t2, t3 = test_time_range(testSize)\n",
    "\n",
    "print(t1, t2, t3)"
   ]
  },
  {
   "cell_type": "code",
   "execution_count": null,
   "id": "f7c67af6",
   "metadata": {},
   "outputs": [],
   "source": []
  }
 ],
 "metadata": {
  "kernelspec": {
   "display_name": "Python 3 (ipykernel)",
   "language": "python",
   "name": "python3"
  },
  "language_info": {
   "codemirror_mode": {
    "name": "ipython",
    "version": 3
   },
   "file_extension": ".py",
   "mimetype": "text/x-python",
   "name": "python",
   "nbconvert_exporter": "python",
   "pygments_lexer": "ipython3",
   "version": "3.9.7"
  }
 },
 "nbformat": 4,
 "nbformat_minor": 5
}
